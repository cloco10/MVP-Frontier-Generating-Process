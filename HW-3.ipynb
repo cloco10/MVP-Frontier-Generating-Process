{
 "cells": [
  {
   "cell_type": "markdown",
   "id": "bb68c2da",
   "metadata": {},
   "source": [
    "# HW-3 \n",
    "### Name: Qihui Du"
   ]
  },
  {
   "cell_type": "markdown",
   "id": "83512d0a",
   "metadata": {},
   "source": [
    "# Part 1"
   ]
  },
  {
   "cell_type": "code",
   "execution_count": 4,
   "id": "94323bbd",
   "metadata": {},
   "outputs": [],
   "source": [
    "import scipy as sp\n",
    "from scipy.stats import norm\n",
    "from matplotlib import pyplot as pl\n",
    "import numpy as np #matrix package\n",
    "import pandas as pd #dataframe package, similar to dataset in matlab\n",
    "from pandas.tseries.offsets import MonthEnd\n",
    "import statsmodels.formula.api as sm\n",
    "import datetime as dt\n",
    "import matplotlib.dates as mdates\n",
    "import math\n",
    "from scipy.stats import gmean\n",
    "from IPython.display import HTML"
   ]
  },
  {
   "cell_type": "code",
   "execution_count": 5,
   "id": "7bfc3722",
   "metadata": {
    "tags": [
     "{",
     "\"tags\":",
     "[",
     "\"hide_input\"",
     "]",
     "}"
    ]
   },
   "outputs": [
    {
     "data": {
      "text/html": [
       "<div>\n",
       "<style scoped>\n",
       "    .dataframe tbody tr th:only-of-type {\n",
       "        vertical-align: middle;\n",
       "    }\n",
       "\n",
       "    .dataframe tbody tr th {\n",
       "        vertical-align: top;\n",
       "    }\n",
       "\n",
       "    .dataframe thead th {\n",
       "        text-align: right;\n",
       "    }\n",
       "</style>\n",
       "<table border=\"1\" class=\"dataframe\">\n",
       "  <thead>\n",
       "    <tr style=\"text-align: right;\">\n",
       "      <th></th>\n",
       "      <th>IVV</th>\n",
       "      <th>GOVT</th>\n",
       "      <th>IAU</th>\n",
       "      <th>HYG</th>\n",
       "      <th>EMM</th>\n",
       "    </tr>\n",
       "  </thead>\n",
       "  <tbody>\n",
       "    <tr>\n",
       "      <th>2/29/2012</th>\n",
       "      <td>137.3200</td>\n",
       "      <td>24.8200</td>\n",
       "      <td>32.96</td>\n",
       "      <td>92.6425</td>\n",
       "      <td>44.3300</td>\n",
       "    </tr>\n",
       "    <tr>\n",
       "      <th>3/30/2012</th>\n",
       "      <td>141.8385</td>\n",
       "      <td>24.6300</td>\n",
       "      <td>32.54</td>\n",
       "      <td>91.7608</td>\n",
       "      <td>42.9450</td>\n",
       "    </tr>\n",
       "    <tr>\n",
       "      <th>4/30/2012</th>\n",
       "      <td>140.9044</td>\n",
       "      <td>24.9483</td>\n",
       "      <td>32.46</td>\n",
       "      <td>92.8045</td>\n",
       "      <td>42.2150</td>\n",
       "    </tr>\n",
       "    <tr>\n",
       "      <th>5/31/2012</th>\n",
       "      <td>132.4369</td>\n",
       "      <td>25.4463</td>\n",
       "      <td>30.42</td>\n",
       "      <td>89.8148</td>\n",
       "      <td>37.7000</td>\n",
       "    </tr>\n",
       "    <tr>\n",
       "      <th>6/29/2012</th>\n",
       "      <td>138.0031</td>\n",
       "      <td>25.3148</td>\n",
       "      <td>31.12</td>\n",
       "      <td>94.0025</td>\n",
       "      <td>39.6216</td>\n",
       "    </tr>\n",
       "    <tr>\n",
       "      <th>...</th>\n",
       "      <td>...</td>\n",
       "      <td>...</td>\n",
       "      <td>...</td>\n",
       "      <td>...</td>\n",
       "      <td>...</td>\n",
       "    </tr>\n",
       "    <tr>\n",
       "      <th>8/31/2021</th>\n",
       "      <td>548.5669</td>\n",
       "      <td>30.8049</td>\n",
       "      <td>34.53</td>\n",
       "      <td>148.3627</td>\n",
       "      <td>63.6525</td>\n",
       "    </tr>\n",
       "    <tr>\n",
       "      <th>9/30/2021</th>\n",
       "      <td>522.8697</td>\n",
       "      <td>30.4750</td>\n",
       "      <td>33.41</td>\n",
       "      <td>147.8133</td>\n",
       "      <td>61.1870</td>\n",
       "    </tr>\n",
       "    <tr>\n",
       "      <th>10/29/2021</th>\n",
       "      <td>559.4858</td>\n",
       "      <td>30.4530</td>\n",
       "      <td>33.93</td>\n",
       "      <td>147.3536</td>\n",
       "      <td>61.8428</td>\n",
       "    </tr>\n",
       "    <tr>\n",
       "      <th>11/30/2021</th>\n",
       "      <td>555.4079</td>\n",
       "      <td>30.6383</td>\n",
       "      <td>33.68</td>\n",
       "      <td>145.6316</td>\n",
       "      <td>59.3167</td>\n",
       "    </tr>\n",
       "    <tr>\n",
       "      <th>12/31/2021</th>\n",
       "      <td>580.7616</td>\n",
       "      <td>30.7484</td>\n",
       "      <td>34.81</td>\n",
       "      <td>148.9579</td>\n",
       "      <td>60.2237</td>\n",
       "    </tr>\n",
       "  </tbody>\n",
       "</table>\n",
       "<p>119 rows × 5 columns</p>\n",
       "</div>"
      ],
      "text/plain": [
       "                 IVV     GOVT    IAU       HYG      EMM\n",
       "2/29/2012   137.3200  24.8200  32.96   92.6425  44.3300\n",
       "3/30/2012   141.8385  24.6300  32.54   91.7608  42.9450\n",
       "4/30/2012   140.9044  24.9483  32.46   92.8045  42.2150\n",
       "5/31/2012   132.4369  25.4463  30.42   89.8148  37.7000\n",
       "6/29/2012   138.0031  25.3148  31.12   94.0025  39.6216\n",
       "...              ...      ...    ...       ...      ...\n",
       "8/31/2021   548.5669  30.8049  34.53  148.3627  63.6525\n",
       "9/30/2021   522.8697  30.4750  33.41  147.8133  61.1870\n",
       "10/29/2021  559.4858  30.4530  33.93  147.3536  61.8428\n",
       "11/30/2021  555.4079  30.6383  33.68  145.6316  59.3167\n",
       "12/31/2021  580.7616  30.7484  34.81  148.9579  60.2237\n",
       "\n",
       "[119 rows x 5 columns]"
      ]
     },
     "execution_count": 5,
     "metadata": {},
     "output_type": "execute_result"
    }
   ],
   "source": [
    "df= pd.read_csv(\"HW3-ETF Time Series Index Returns (2).csv\",index_col=0,skiprows=6,names=['IVV','GOVT','IAU','HYG','EMM'],nrows=119)\n",
    "df"
   ]
  },
  {
   "cell_type": "code",
   "execution_count": 6,
   "id": "d80157c9",
   "metadata": {},
   "outputs": [
    {
     "data": {
      "text/html": [
       "<div>\n",
       "<style scoped>\n",
       "    .dataframe tbody tr th:only-of-type {\n",
       "        vertical-align: middle;\n",
       "    }\n",
       "\n",
       "    .dataframe tbody tr th {\n",
       "        vertical-align: top;\n",
       "    }\n",
       "\n",
       "    .dataframe thead th {\n",
       "        text-align: right;\n",
       "    }\n",
       "</style>\n",
       "<table border=\"1\" class=\"dataframe\">\n",
       "  <thead>\n",
       "    <tr style=\"text-align: right;\">\n",
       "      <th></th>\n",
       "      <th>IVV</th>\n",
       "      <th>GOVT</th>\n",
       "      <th>IAU</th>\n",
       "      <th>HYG</th>\n",
       "      <th>EMM</th>\n",
       "    </tr>\n",
       "  </thead>\n",
       "  <tbody>\n",
       "    <tr>\n",
       "      <th>2/29/2012</th>\n",
       "      <td>1.000000</td>\n",
       "      <td>1.000000</td>\n",
       "      <td>1.000000</td>\n",
       "      <td>1.000000</td>\n",
       "      <td>1.000000</td>\n",
       "    </tr>\n",
       "    <tr>\n",
       "      <th>3/30/2012</th>\n",
       "      <td>1.032905</td>\n",
       "      <td>0.992345</td>\n",
       "      <td>0.987257</td>\n",
       "      <td>0.990483</td>\n",
       "      <td>0.968757</td>\n",
       "    </tr>\n",
       "    <tr>\n",
       "      <th>4/30/2012</th>\n",
       "      <td>0.993414</td>\n",
       "      <td>1.012923</td>\n",
       "      <td>0.997541</td>\n",
       "      <td>1.011374</td>\n",
       "      <td>0.983002</td>\n",
       "    </tr>\n",
       "    <tr>\n",
       "      <th>5/31/2012</th>\n",
       "      <td>0.939906</td>\n",
       "      <td>1.019961</td>\n",
       "      <td>0.937153</td>\n",
       "      <td>0.967785</td>\n",
       "      <td>0.893047</td>\n",
       "    </tr>\n",
       "    <tr>\n",
       "      <th>6/29/2012</th>\n",
       "      <td>1.042029</td>\n",
       "      <td>0.994832</td>\n",
       "      <td>1.023011</td>\n",
       "      <td>1.046626</td>\n",
       "      <td>1.050971</td>\n",
       "    </tr>\n",
       "    <tr>\n",
       "      <th>...</th>\n",
       "      <td>...</td>\n",
       "      <td>...</td>\n",
       "      <td>...</td>\n",
       "      <td>...</td>\n",
       "      <td>...</td>\n",
       "    </tr>\n",
       "    <tr>\n",
       "      <th>8/31/2021</th>\n",
       "      <td>1.030222</td>\n",
       "      <td>0.998985</td>\n",
       "      <td>0.999132</td>\n",
       "      <td>1.006094</td>\n",
       "      <td>1.015698</td>\n",
       "    </tr>\n",
       "    <tr>\n",
       "      <th>9/30/2021</th>\n",
       "      <td>0.953156</td>\n",
       "      <td>0.989291</td>\n",
       "      <td>0.967564</td>\n",
       "      <td>0.996297</td>\n",
       "      <td>0.961266</td>\n",
       "    </tr>\n",
       "    <tr>\n",
       "      <th>10/29/2021</th>\n",
       "      <td>1.070029</td>\n",
       "      <td>0.999278</td>\n",
       "      <td>1.015564</td>\n",
       "      <td>0.996890</td>\n",
       "      <td>1.010718</td>\n",
       "    </tr>\n",
       "    <tr>\n",
       "      <th>11/30/2021</th>\n",
       "      <td>0.992711</td>\n",
       "      <td>1.006085</td>\n",
       "      <td>0.992632</td>\n",
       "      <td>0.988314</td>\n",
       "      <td>0.959153</td>\n",
       "    </tr>\n",
       "    <tr>\n",
       "      <th>12/31/2021</th>\n",
       "      <td>1.045649</td>\n",
       "      <td>1.003594</td>\n",
       "      <td>1.033551</td>\n",
       "      <td>1.022841</td>\n",
       "      <td>1.015291</td>\n",
       "    </tr>\n",
       "  </tbody>\n",
       "</table>\n",
       "<p>119 rows × 5 columns</p>\n",
       "</div>"
      ],
      "text/plain": [
       "                 IVV      GOVT       IAU       HYG       EMM\n",
       "2/29/2012   1.000000  1.000000  1.000000  1.000000  1.000000\n",
       "3/30/2012   1.032905  0.992345  0.987257  0.990483  0.968757\n",
       "4/30/2012   0.993414  1.012923  0.997541  1.011374  0.983002\n",
       "5/31/2012   0.939906  1.019961  0.937153  0.967785  0.893047\n",
       "6/29/2012   1.042029  0.994832  1.023011  1.046626  1.050971\n",
       "...              ...       ...       ...       ...       ...\n",
       "8/31/2021   1.030222  0.998985  0.999132  1.006094  1.015698\n",
       "9/30/2021   0.953156  0.989291  0.967564  0.996297  0.961266\n",
       "10/29/2021  1.070029  0.999278  1.015564  0.996890  1.010718\n",
       "11/30/2021  0.992711  1.006085  0.992632  0.988314  0.959153\n",
       "12/31/2021  1.045649  1.003594  1.033551  1.022841  1.015291\n",
       "\n",
       "[119 rows x 5 columns]"
      ]
     },
     "execution_count": 6,
     "metadata": {},
     "output_type": "execute_result"
    }
   ],
   "source": [
    "# question1\n",
    "monrt= df.pct_change()\n",
    "monrt1=monrt.fillna(0)\n",
    "monrt1+=1\n",
    "monrt1"
   ]
  },
  {
   "cell_type": "code",
   "execution_count": 7,
   "id": "28c5ee7e",
   "metadata": {},
   "outputs": [
    {
     "data": {
      "text/html": [
       "<div>\n",
       "<style scoped>\n",
       "    .dataframe tbody tr th:only-of-type {\n",
       "        vertical-align: middle;\n",
       "    }\n",
       "\n",
       "    .dataframe tbody tr th {\n",
       "        vertical-align: top;\n",
       "    }\n",
       "\n",
       "    .dataframe thead th {\n",
       "        text-align: right;\n",
       "    }\n",
       "</style>\n",
       "<table border=\"1\" class=\"dataframe\">\n",
       "  <thead>\n",
       "    <tr style=\"text-align: right;\">\n",
       "      <th></th>\n",
       "      <th>IVV</th>\n",
       "      <th>GOVT</th>\n",
       "      <th>IAU</th>\n",
       "      <th>HYG</th>\n",
       "      <th>EMM</th>\n",
       "    </tr>\n",
       "  </thead>\n",
       "  <tbody>\n",
       "    <tr>\n",
       "      <th>2/29/2012</th>\n",
       "      <td>1.000000</td>\n",
       "      <td>1.000000</td>\n",
       "      <td>1.000000</td>\n",
       "      <td>1.000000</td>\n",
       "      <td>1.000000</td>\n",
       "    </tr>\n",
       "    <tr>\n",
       "      <th>3/30/2012</th>\n",
       "      <td>1.032905</td>\n",
       "      <td>0.992345</td>\n",
       "      <td>0.987257</td>\n",
       "      <td>0.990483</td>\n",
       "      <td>0.968757</td>\n",
       "    </tr>\n",
       "    <tr>\n",
       "      <th>4/30/2012</th>\n",
       "      <td>1.026103</td>\n",
       "      <td>1.005169</td>\n",
       "      <td>0.984830</td>\n",
       "      <td>1.001749</td>\n",
       "      <td>0.952290</td>\n",
       "    </tr>\n",
       "    <tr>\n",
       "      <th>5/31/2012</th>\n",
       "      <td>0.964440</td>\n",
       "      <td>1.025234</td>\n",
       "      <td>0.922937</td>\n",
       "      <td>0.969477</td>\n",
       "      <td>0.850440</td>\n",
       "    </tr>\n",
       "    <tr>\n",
       "      <th>6/29/2012</th>\n",
       "      <td>1.004975</td>\n",
       "      <td>1.019936</td>\n",
       "      <td>0.944175</td>\n",
       "      <td>1.014680</td>\n",
       "      <td>0.893788</td>\n",
       "    </tr>\n",
       "    <tr>\n",
       "      <th>...</th>\n",
       "      <td>...</td>\n",
       "      <td>...</td>\n",
       "      <td>...</td>\n",
       "      <td>...</td>\n",
       "      <td>...</td>\n",
       "    </tr>\n",
       "    <tr>\n",
       "      <th>8/31/2021</th>\n",
       "      <td>3.994807</td>\n",
       "      <td>1.241132</td>\n",
       "      <td>1.047633</td>\n",
       "      <td>1.601454</td>\n",
       "      <td>1.435879</td>\n",
       "    </tr>\n",
       "    <tr>\n",
       "      <th>9/30/2021</th>\n",
       "      <td>3.807673</td>\n",
       "      <td>1.227840</td>\n",
       "      <td>1.013653</td>\n",
       "      <td>1.595524</td>\n",
       "      <td>1.380262</td>\n",
       "    </tr>\n",
       "    <tr>\n",
       "      <th>10/29/2021</th>\n",
       "      <td>4.074321</td>\n",
       "      <td>1.226954</td>\n",
       "      <td>1.029430</td>\n",
       "      <td>1.590562</td>\n",
       "      <td>1.395055</td>\n",
       "    </tr>\n",
       "    <tr>\n",
       "      <th>11/30/2021</th>\n",
       "      <td>4.044625</td>\n",
       "      <td>1.234420</td>\n",
       "      <td>1.021845</td>\n",
       "      <td>1.571974</td>\n",
       "      <td>1.338071</td>\n",
       "    </tr>\n",
       "    <tr>\n",
       "      <th>12/31/2021</th>\n",
       "      <td>4.229257</td>\n",
       "      <td>1.238856</td>\n",
       "      <td>1.056129</td>\n",
       "      <td>1.607879</td>\n",
       "      <td>1.358531</td>\n",
       "    </tr>\n",
       "  </tbody>\n",
       "</table>\n",
       "<p>119 rows × 5 columns</p>\n",
       "</div>"
      ],
      "text/plain": [
       "                 IVV      GOVT       IAU       HYG       EMM\n",
       "2/29/2012   1.000000  1.000000  1.000000  1.000000  1.000000\n",
       "3/30/2012   1.032905  0.992345  0.987257  0.990483  0.968757\n",
       "4/30/2012   1.026103  1.005169  0.984830  1.001749  0.952290\n",
       "5/31/2012   0.964440  1.025234  0.922937  0.969477  0.850440\n",
       "6/29/2012   1.004975  1.019936  0.944175  1.014680  0.893788\n",
       "...              ...       ...       ...       ...       ...\n",
       "8/31/2021   3.994807  1.241132  1.047633  1.601454  1.435879\n",
       "9/30/2021   3.807673  1.227840  1.013653  1.595524  1.380262\n",
       "10/29/2021  4.074321  1.226954  1.029430  1.590562  1.395055\n",
       "11/30/2021  4.044625  1.234420  1.021845  1.571974  1.338071\n",
       "12/31/2021  4.229257  1.238856  1.056129  1.607879  1.358531\n",
       "\n",
       "[119 rows x 5 columns]"
      ]
     },
     "execution_count": 7,
     "metadata": {},
     "output_type": "execute_result"
    }
   ],
   "source": [
    "#question2\n",
    "cum_monrt=monrt1.cumprod()\n",
    "cum_monrt"
   ]
  },
  {
   "cell_type": "code",
   "execution_count": 8,
   "id": "f84b0951",
   "metadata": {},
   "outputs": [
    {
     "data": {
      "image/png": "[encoded data removed]",
      "text/plain": [
       "<Figure size 576x360 with 1 Axes>"
      ]
     },
     "metadata": {
      "needs_background": "light"
     },
     "output_type": "display_data"
    }
   ],
   "source": [
    "#question3\n",
    "# cum_monrt.plot(figsize=(12,8))\n",
    "myplot = cum_monrt.plot(figsize=(8,5))"
   ]
  },
  {
   "cell_type": "markdown",
   "id": "5a2c2310",
   "metadata": {},
   "source": [
    "Explanation: after using same index, excluding IVV, the other four parameters are having relatively steady performance, while the IVV parameter have increased rapidly over the years.\n"
   ]
  },
  {
   "cell_type": "code",
   "execution_count": 9,
   "id": "2761f194",
   "metadata": {},
   "outputs": [
    {
     "data": {
      "text/html": [
       "<div>\n",
       "<style scoped>\n",
       "    .dataframe tbody tr th:only-of-type {\n",
       "        vertical-align: middle;\n",
       "    }\n",
       "\n",
       "    .dataframe tbody tr th {\n",
       "        vertical-align: top;\n",
       "    }\n",
       "\n",
       "    .dataframe thead th {\n",
       "        text-align: right;\n",
       "    }\n",
       "</style>\n",
       "<table border=\"1\" class=\"dataframe\">\n",
       "  <thead>\n",
       "    <tr style=\"text-align: right;\">\n",
       "      <th></th>\n",
       "      <th>IVV</th>\n",
       "      <th>GOVT</th>\n",
       "      <th>IAU</th>\n",
       "      <th>HYG</th>\n",
       "      <th>EMM</th>\n",
       "    </tr>\n",
       "  </thead>\n",
       "  <tbody>\n",
       "    <tr>\n",
       "      <th>IVV</th>\n",
       "      <td>0.001419</td>\n",
       "      <td>-0.000124</td>\n",
       "      <td>0.000101</td>\n",
       "      <td>0.000514</td>\n",
       "      <td>0.001202</td>\n",
       "    </tr>\n",
       "    <tr>\n",
       "      <th>GOVT</th>\n",
       "      <td>-0.000124</td>\n",
       "      <td>0.000108</td>\n",
       "      <td>0.000160</td>\n",
       "      <td>-0.000022</td>\n",
       "      <td>-0.000094</td>\n",
       "    </tr>\n",
       "    <tr>\n",
       "      <th>IAU</th>\n",
       "      <td>0.000101</td>\n",
       "      <td>0.000160</td>\n",
       "      <td>0.001800</td>\n",
       "      <td>0.000232</td>\n",
       "      <td>0.000477</td>\n",
       "    </tr>\n",
       "    <tr>\n",
       "      <th>HYG</th>\n",
       "      <td>0.000514</td>\n",
       "      <td>-0.000022</td>\n",
       "      <td>0.000232</td>\n",
       "      <td>0.000349</td>\n",
       "      <td>0.000616</td>\n",
       "    </tr>\n",
       "    <tr>\n",
       "      <th>EMM</th>\n",
       "      <td>0.001202</td>\n",
       "      <td>-0.000094</td>\n",
       "      <td>0.000477</td>\n",
       "      <td>0.000616</td>\n",
       "      <td>0.002175</td>\n",
       "    </tr>\n",
       "  </tbody>\n",
       "</table>\n",
       "</div>"
      ],
      "text/plain": [
       "           IVV      GOVT       IAU       HYG       EMM\n",
       "IVV   0.001419 -0.000124  0.000101  0.000514  0.001202\n",
       "GOVT -0.000124  0.000108  0.000160 -0.000022 -0.000094\n",
       "IAU   0.000101  0.000160  0.001800  0.000232  0.000477\n",
       "HYG   0.000514 -0.000022  0.000232  0.000349  0.000616\n",
       "EMM   0.001202 -0.000094  0.000477  0.000616  0.002175"
      ]
     },
     "execution_count": 9,
     "metadata": {},
     "output_type": "execute_result"
    }
   ],
   "source": [
    "#question4\n",
    "cov_monrt=monrt1.cov()\n",
    "cov_monrt"
   ]
  },
  {
   "cell_type": "code",
   "execution_count": 10,
   "id": "8bf663c9",
   "metadata": {},
   "outputs": [
    {
     "data": {
      "text/html": [
       "<div>\n",
       "<style scoped>\n",
       "    .dataframe tbody tr th:only-of-type {\n",
       "        vertical-align: middle;\n",
       "    }\n",
       "\n",
       "    .dataframe tbody tr th {\n",
       "        vertical-align: top;\n",
       "    }\n",
       "\n",
       "    .dataframe thead th {\n",
       "        text-align: right;\n",
       "    }\n",
       "</style>\n",
       "<table border=\"1\" class=\"dataframe\">\n",
       "  <thead>\n",
       "    <tr style=\"text-align: right;\">\n",
       "      <th></th>\n",
       "      <th>IVV</th>\n",
       "      <th>GOVT</th>\n",
       "      <th>IAU</th>\n",
       "      <th>HYG</th>\n",
       "      <th>EMM</th>\n",
       "    </tr>\n",
       "  </thead>\n",
       "  <tbody>\n",
       "    <tr>\n",
       "      <th>IVV</th>\n",
       "      <td>1.000000</td>\n",
       "      <td>-0.317042</td>\n",
       "      <td>0.063504</td>\n",
       "      <td>0.729582</td>\n",
       "      <td>0.683972</td>\n",
       "    </tr>\n",
       "    <tr>\n",
       "      <th>GOVT</th>\n",
       "      <td>-0.317042</td>\n",
       "      <td>1.000000</td>\n",
       "      <td>0.362836</td>\n",
       "      <td>-0.113884</td>\n",
       "      <td>-0.193897</td>\n",
       "    </tr>\n",
       "    <tr>\n",
       "      <th>IAU</th>\n",
       "      <td>0.063504</td>\n",
       "      <td>0.362836</td>\n",
       "      <td>1.000000</td>\n",
       "      <td>0.292634</td>\n",
       "      <td>0.241157</td>\n",
       "    </tr>\n",
       "    <tr>\n",
       "      <th>HYG</th>\n",
       "      <td>0.729582</td>\n",
       "      <td>-0.113884</td>\n",
       "      <td>0.292634</td>\n",
       "      <td>1.000000</td>\n",
       "      <td>0.706873</td>\n",
       "    </tr>\n",
       "    <tr>\n",
       "      <th>EMM</th>\n",
       "      <td>0.683972</td>\n",
       "      <td>-0.193897</td>\n",
       "      <td>0.241157</td>\n",
       "      <td>0.706873</td>\n",
       "      <td>1.000000</td>\n",
       "    </tr>\n",
       "  </tbody>\n",
       "</table>\n",
       "</div>"
      ],
      "text/plain": [
       "           IVV      GOVT       IAU       HYG       EMM\n",
       "IVV   1.000000 -0.317042  0.063504  0.729582  0.683972\n",
       "GOVT -0.317042  1.000000  0.362836 -0.113884 -0.193897\n",
       "IAU   0.063504  0.362836  1.000000  0.292634  0.241157\n",
       "HYG   0.729582 -0.113884  0.292634  1.000000  0.706873\n",
       "EMM   0.683972 -0.193897  0.241157  0.706873  1.000000"
      ]
     },
     "execution_count": 10,
     "metadata": {},
     "output_type": "execute_result"
    }
   ],
   "source": [
    "corr_monrt=monrt1.corr()\n",
    "corr_monrt"
   ]
  },
  {
   "cell_type": "markdown",
   "id": "7c2aedc1",
   "metadata": {},
   "source": [
    "From the correlation matrix, we can see the correlations between HYG/IVV and HYG/EEM and IVV/EEM are both higher than 0.7, which indicates strong correlation. Also, IVV/GOV has a relatively moderate negative correlation"
   ]
  },
  {
   "cell_type": "code",
   "execution_count": 11,
   "id": "887ffa4a",
   "metadata": {},
   "outputs": [
    {
     "data": {
      "text/plain": [
       "array([0.03767279, 0.0103992 , 0.04242598, 0.0186888 , 0.04663273])"
      ]
     },
     "execution_count": 11,
     "metadata": {},
     "output_type": "execute_result"
    }
   ],
   "source": [
    "sd_monrt=np.sqrt(np.diagonal(cov_monrt))\n",
    "sd_monrt"
   ]
  },
  {
   "cell_type": "code",
   "execution_count": 12,
   "id": "a468a675",
   "metadata": {},
   "outputs": [
    {
     "data": {
      "text/plain": [
       "array([0.13050237, 0.03602387, 0.14696789, 0.06473991, 0.1615405 ])"
      ]
     },
     "execution_count": 12,
     "metadata": {},
     "output_type": "execute_result"
    }
   ],
   "source": [
    "annual_sd=np.sqrt(12)*sd_monrt\n",
    "annual_sd"
   ]
  },
  {
   "cell_type": "markdown",
   "id": "cf410429",
   "metadata": {},
   "source": [
    "Explanation: we can say that relatively, GOVT&HYG have small volatilities while IVV ,IAU and EEM had larger volitilities annually."
   ]
  },
  {
   "cell_type": "markdown",
   "id": "cfffe550",
   "metadata": {},
   "source": [
    "# Part 2"
   ]
  },
  {
   "cell_type": "code",
   "execution_count": 13,
   "id": "ec7c6d5b",
   "metadata": {},
   "outputs": [
    {
     "data": {
      "text/html": [
       "<div>\n",
       "<style scoped>\n",
       "    .dataframe tbody tr th:only-of-type {\n",
       "        vertical-align: middle;\n",
       "    }\n",
       "\n",
       "    .dataframe tbody tr th {\n",
       "        vertical-align: top;\n",
       "    }\n",
       "\n",
       "    .dataframe thead th {\n",
       "        text-align: right;\n",
       "    }\n",
       "</style>\n",
       "<table border=\"1\" class=\"dataframe\">\n",
       "  <thead>\n",
       "    <tr style=\"text-align: right;\">\n",
       "      <th></th>\n",
       "      <th>IVV</th>\n",
       "      <th>GOVT</th>\n",
       "      <th>IAU</th>\n",
       "      <th>HYG</th>\n",
       "      <th>EMM</th>\n",
       "    </tr>\n",
       "  </thead>\n",
       "  <tbody>\n",
       "    <tr>\n",
       "      <th>IVV</th>\n",
       "      <td>0.017031</td>\n",
       "      <td>-0.001490</td>\n",
       "      <td>0.001218</td>\n",
       "      <td>0.006164</td>\n",
       "      <td>0.014419</td>\n",
       "    </tr>\n",
       "    <tr>\n",
       "      <th>GOVT</th>\n",
       "      <td>-0.001490</td>\n",
       "      <td>0.001298</td>\n",
       "      <td>0.001921</td>\n",
       "      <td>-0.000266</td>\n",
       "      <td>-0.001128</td>\n",
       "    </tr>\n",
       "    <tr>\n",
       "      <th>IAU</th>\n",
       "      <td>0.001218</td>\n",
       "      <td>0.001921</td>\n",
       "      <td>0.021600</td>\n",
       "      <td>0.002784</td>\n",
       "      <td>0.005725</td>\n",
       "    </tr>\n",
       "    <tr>\n",
       "      <th>HYG</th>\n",
       "      <td>0.006164</td>\n",
       "      <td>-0.000266</td>\n",
       "      <td>0.002784</td>\n",
       "      <td>0.004191</td>\n",
       "      <td>0.007393</td>\n",
       "    </tr>\n",
       "    <tr>\n",
       "      <th>EMM</th>\n",
       "      <td>0.014419</td>\n",
       "      <td>-0.001128</td>\n",
       "      <td>0.005725</td>\n",
       "      <td>0.007393</td>\n",
       "      <td>0.026095</td>\n",
       "    </tr>\n",
       "  </tbody>\n",
       "</table>\n",
       "</div>"
      ],
      "text/plain": [
       "           IVV      GOVT       IAU       HYG       EMM\n",
       "IVV   0.017031 -0.001490  0.001218  0.006164  0.014419\n",
       "GOVT -0.001490  0.001298  0.001921 -0.000266 -0.001128\n",
       "IAU   0.001218  0.001921  0.021600  0.002784  0.005725\n",
       "HYG   0.006164 -0.000266  0.002784  0.004191  0.007393\n",
       "EMM   0.014419 -0.001128  0.005725  0.007393  0.026095"
      ]
     },
     "execution_count": 13,
     "metadata": {},
     "output_type": "execute_result"
    }
   ],
   "source": [
    "#compute the annual covariance matrix \n",
    "cov_annualrt= 12*cov_monrt\n",
    "cov_annualrt"
   ]
  },
  {
   "cell_type": "code",
   "execution_count": 14,
   "id": "6bca5941",
   "metadata": {},
   "outputs": [
    {
     "data": {
      "text/plain": [
       "(array([0.04112722, 0.02059411, 0.00617218, 0.00139172, 0.00092951]),\n",
       " array([[-0.53268285,  0.30207145, -0.74036914, -0.24226697,  0.1347667 ],\n",
       "        [ 0.02907375, -0.12450392,  0.02625596,  0.23622881,  0.96289151],\n",
       "        [-0.28785588, -0.93548195, -0.15434579, -0.10727672, -0.08174106],\n",
       "        [-0.26115874,  0.01693128, -0.14824913,  0.92939805, -0.2138946 ],\n",
       "        [-0.75122487,  0.13356074,  0.63668181, -0.10106251,  0.04738534]]))"
      ]
     },
     "execution_count": 14,
     "metadata": {},
     "output_type": "execute_result"
    }
   ],
   "source": [
    "#check the eigenvalue\n",
    "evalues=np.linalg.eig(cov_annualrt)\n",
    "evalues"
   ]
  },
  {
   "cell_type": "markdown",
   "id": "1e9fc154",
   "metadata": {},
   "source": [
    "Explanantion: We can see that all eigen values are positive."
   ]
  },
  {
   "cell_type": "markdown",
   "id": "4cec72b2",
   "metadata": {},
   "source": [
    "## question a): compute the GMVP"
   ]
  },
  {
   "cell_type": "code",
   "execution_count": 15,
   "id": "55329e54",
   "metadata": {},
   "outputs": [
    {
     "name": "stdout",
     "output_type": "stream",
     "text": [
      "[[ 161.85202796   93.13251168   15.3440799  -171.38566726  -40.21968908]\n",
      " [  93.13251168 1038.45645639  -98.09039121  -64.73921973   33.30283753]\n",
      " [  15.3440799   -98.09039121   63.82588779  -48.06415301  -13.10727353]\n",
      " [-171.38566726  -64.73921973  -48.06415301  675.11169493  -88.80664242]\n",
      " [ -40.21968908   33.30283753  -13.10727353  -88.80664242   90.01844476]]\n"
     ]
    }
   ],
   "source": [
    "#i. check the weights sum to one&#ii.calculate Wg using (2.50)\n",
    "# calculate the inverse of covariance matrix\n",
    "Σ= np.linalg.inv(cov_annualrt)\n",
    "print(Σ)"
   ]
  },
  {
   "cell_type": "code",
   "execution_count": 16,
   "id": "8f3a5924",
   "metadata": {},
   "outputs": [
    {
     "name": "stdout",
     "output_type": "stream",
     "text": [
      "IVV     0.046458\n",
      "GOVT    0.792772\n",
      "IAU    -0.063364\n",
      "HYG     0.239016\n",
      "EMM    -0.014883\n",
      "dtype: float64\n",
      "sum of weights:1.0\n"
     ]
    }
   ],
   "source": [
    "a=np.array([1,1,1,1,1])\n",
    "b=a.transpose()\n",
    "wg=np.divide(np.dot(Σ,a),np.dot(np.dot(b,Σ),a))\n",
    "Wg_n=pd.Series([ 0.04645838,  0.79277242, -0.06336394,  0.23901634, -0.0148832 ],index=df.columns)\n",
    "print(Wg_n)\n",
    "print(f\"sum of weights:{round(wg.sum(),4)}\")"
   ]
  },
  {
   "cell_type": "markdown",
   "id": "08c71468",
   "metadata": {},
   "source": [
    "Explanation: We can see from the weights, US Treasury Bond ETF has the greatest weight and it's intuitive, for Treasury bonds are always considered low-risk investment and will definitely contribute most the minimization of the variance."
   ]
  },
  {
   "cell_type": "markdown",
   "id": "dd148014",
   "metadata": {},
   "source": [
    "iii. Intuitively the global minimum-variance portfolio will hold the portfolio with the least risks and variance, however, it cannot only hold the lowest-risk asset class because first of all, GMVP is a special point for MVP including multiple assets, so it must have two or more assets; moreover, the undiversified risk is set by the market however, the divesifiable risk can be reduced when N grows, as well as the expected return. So it's not true for GMVP to hold only the lowest-risk asset."
   ]
  },
  {
   "cell_type": "code",
   "execution_count": 17,
   "id": "47e6c2f6",
   "metadata": {},
   "outputs": [
    {
     "name": "stdout",
     "output_type": "stream",
     "text": [
      "the annualized variance is 0.0007911409319648295\n",
      "the annualized std is 0.028127227591158526\n"
     ]
    }
   ],
   "source": [
    "#iv.calculate variance&std using (2.55)\n",
    "var_GMVP=np.dot(Wg_n.T,np.dot(cov_annualrt,Wg_n))\n",
    "var_GMVP\n",
    "std_GMVP=math.sqrt(var_GMVP)\n",
    "std_GMVP\n",
    "print (\"the annualized variance is \"+str(var_GMVP))\n",
    "print (\"the annualized std is \"+str(std_GMVP))"
   ]
  },
  {
   "cell_type": "markdown",
   "id": "d37a6988",
   "metadata": {},
   "source": [
    "## question b): compute a MVP"
   ]
  },
  {
   "cell_type": "code",
   "execution_count": 18,
   "id": "4191781d",
   "metadata": {},
   "outputs": [
    {
     "data": {
      "text/html": [
       "<div>\n",
       "<style scoped>\n",
       "    .dataframe tbody tr th:only-of-type {\n",
       "        vertical-align: middle;\n",
       "    }\n",
       "\n",
       "    .dataframe tbody tr th {\n",
       "        vertical-align: top;\n",
       "    }\n",
       "\n",
       "    .dataframe thead th {\n",
       "        text-align: right;\n",
       "    }\n",
       "</style>\n",
       "<table border=\"1\" class=\"dataframe\">\n",
       "  <thead>\n",
       "    <tr style=\"text-align: right;\">\n",
       "      <th></th>\n",
       "      <th>0</th>\n",
       "    </tr>\n",
       "  </thead>\n",
       "  <tbody>\n",
       "    <tr>\n",
       "      <th>IVV</th>\n",
       "      <td>0.060</td>\n",
       "    </tr>\n",
       "    <tr>\n",
       "      <th>GOVT</th>\n",
       "      <td>0.016</td>\n",
       "    </tr>\n",
       "    <tr>\n",
       "      <th>IAU</th>\n",
       "      <td>0.030</td>\n",
       "    </tr>\n",
       "    <tr>\n",
       "      <th>HYG</th>\n",
       "      <td>0.032</td>\n",
       "    </tr>\n",
       "    <tr>\n",
       "      <th>EMM</th>\n",
       "      <td>0.071</td>\n",
       "    </tr>\n",
       "  </tbody>\n",
       "</table>\n",
       "</div>"
      ],
      "text/plain": [
       "          0\n",
       "IVV   0.060\n",
       "GOVT  0.016\n",
       "IAU   0.030\n",
       "HYG   0.032\n",
       "EMM   0.071"
      ]
     },
     "execution_count": 18,
     "metadata": {},
     "output_type": "execute_result"
    }
   ],
   "source": [
    "#a&b.compute A,B,C,D,λ1,λ2, setting the R_p_bar=0.05\n",
    "R_p_bar=0.05\n",
    "R_bar=pd.DataFrame([0.06,0.016,0.03,0.032,0.071],index=df.columns)          \n",
    "R_bar"
   ]
  },
  {
   "cell_type": "code",
   "execution_count": 19,
   "id": "11082ea6",
   "metadata": {},
   "outputs": [
    {
     "name": "stdout",
     "output_type": "stream",
     "text": [
      "A= 0.6478599730929251\n",
      "B= 25.485672890582613\n",
      "C= 1263.9972975692979\n",
      "D= 169.37373250699784\n",
      "λ1= 0.22266848247159035\n",
      "λ2= -0.003698470017541382\n"
     ]
    }
   ],
   "source": [
    "R_bar_t=pd.DataFrame.transpose(R_bar)\n",
    "R1=R_bar_t.to_numpy()\n",
    "R2=R_bar.to_numpy()\n",
    "A=np.dot(np.dot(R1,Σ),R2)\n",
    "print(\"A=\",str(A[0][0]))\n",
    "i=np.array([1,1,1,1,1])\n",
    "ii=i.transpose()\n",
    "B=np.dot(np.dot(R1,Σ),ii)\n",
    "print(\"B=\",str(B[0]))\n",
    "C=np.dot(np.dot(i,Σ),ii)\n",
    "print(\"C=\",str(C))\n",
    "D=A*C-B**2\n",
    "print(\"D=\",str(D[0][0]))\n",
    "λ1=(C*R_p_bar-B)/D\n",
    "λ2=(A-B*R_p_bar)/D\n",
    "print(\"λ1=\",str(λ1[0][0]))\n",
    "print(\"λ2=\",str(λ2[0][0]))"
   ]
  },
  {
   "cell_type": "code",
   "execution_count": 20,
   "id": "7dbc7106",
   "metadata": {},
   "outputs": [
    {
     "name": "stdout",
     "output_type": "stream",
     "text": [
      "IVV     0.522435\n",
      "GOVT    0.647826\n",
      "IAU     0.028415\n",
      "HYG    -0.552366\n",
      "EMM     0.353689\n",
      "dtype: float64\n",
      "sum of weights:1.0\n"
     ]
    }
   ],
   "source": [
    "#c.calculate MVP using(2.43), check weights sum to 1\n",
    "W_mvp=pd.Series(np.diagonal(λ1*(np.dot(Σ,R2))+λ2*(np.dot(Σ,ii))),index=df.columns)\n",
    "print(W_mvp)\n",
    "print(f\"sum of weights:{round(W_mvp.sum(),4)}\")"
   ]
  },
  {
   "cell_type": "code",
   "execution_count": 21,
   "id": "68c7556b",
   "metadata": {},
   "outputs": [
    {
     "name": "stdout",
     "output_type": "stream",
     "text": [
      "the variance of MVP is  0.007434954106038137\n",
      "the std of MVP is  0.08622617993416\n"
     ]
    }
   ],
   "source": [
    "#d.calculate variance&std. using(2.47)\n",
    "var_mvp=(A-2*B*R_p_bar+C*(R_p_bar**2))/D\n",
    "std_mvp=math.sqrt(var_mvp)\n",
    "print(\"the variance of MVP is \",str(var_mvp[0][0]))\n",
    "print(\"the std of MVP is \",str(std_mvp))"
   ]
  },
  {
   "cell_type": "code",
   "execution_count": 22,
   "id": "739a9260",
   "metadata": {},
   "outputs": [
    {
     "data": {
      "text/html": [
       "<div>\n",
       "<style scoped>\n",
       "    .dataframe tbody tr th:only-of-type {\n",
       "        vertical-align: middle;\n",
       "    }\n",
       "\n",
       "    .dataframe tbody tr th {\n",
       "        vertical-align: top;\n",
       "    }\n",
       "\n",
       "    .dataframe thead th {\n",
       "        text-align: right;\n",
       "    }\n",
       "</style>\n",
       "<table border=\"1\" class=\"dataframe\">\n",
       "  <thead>\n",
       "    <tr style=\"text-align: right;\">\n",
       "      <th></th>\n",
       "      <th>GMVP</th>\n",
       "      <th>MVP</th>\n",
       "      <th>R_bar</th>\n",
       "    </tr>\n",
       "  </thead>\n",
       "  <tbody>\n",
       "    <tr>\n",
       "      <th>IVV</th>\n",
       "      <td>0.046458</td>\n",
       "      <td>0.522435</td>\n",
       "      <td>0.060</td>\n",
       "    </tr>\n",
       "    <tr>\n",
       "      <th>GOVT</th>\n",
       "      <td>0.792772</td>\n",
       "      <td>0.647826</td>\n",
       "      <td>0.016</td>\n",
       "    </tr>\n",
       "    <tr>\n",
       "      <th>IAU</th>\n",
       "      <td>-0.063364</td>\n",
       "      <td>0.028415</td>\n",
       "      <td>0.030</td>\n",
       "    </tr>\n",
       "    <tr>\n",
       "      <th>HYG</th>\n",
       "      <td>0.239016</td>\n",
       "      <td>-0.552366</td>\n",
       "      <td>0.032</td>\n",
       "    </tr>\n",
       "    <tr>\n",
       "      <th>EMM</th>\n",
       "      <td>-0.014883</td>\n",
       "      <td>0.353689</td>\n",
       "      <td>0.071</td>\n",
       "    </tr>\n",
       "  </tbody>\n",
       "</table>\n",
       "</div>"
      ],
      "text/plain": [
       "          GMVP       MVP  R_bar\n",
       "IVV   0.046458  0.522435  0.060\n",
       "GOVT  0.792772  0.647826  0.016\n",
       "IAU  -0.063364  0.028415  0.030\n",
       "HYG   0.239016 -0.552366  0.032\n",
       "EMM  -0.014883  0.353689  0.071"
      ]
     },
     "execution_count": 22,
     "metadata": {},
     "output_type": "execute_result"
    }
   ],
   "source": [
    "#e.characterize differences between this portfolio and GMVP\n",
    "pd.concat([Wg_n,W_mvp,R_bar],axis=1).set_axis(['GMVP','MVP','R_bar'],axis=1)"
   ]
  },
  {
   "cell_type": "markdown",
   "id": "70e10d48",
   "metadata": {},
   "source": [
    "Explanations: under this portfolio, the expected return rate is higher than the GMVP, therefore we should transfer the low-risk asset like GOVT to riskier ones, like the EEM and IAU."
   ]
  },
  {
   "cell_type": "markdown",
   "id": "37d594de",
   "metadata": {},
   "source": [
    "## question c): mutual fund"
   ]
  },
  {
   "cell_type": "code",
   "execution_count": 23,
   "id": "33af0fc4",
   "metadata": {},
   "outputs": [
    {
     "data": {
      "text/html": [
       "<div>\n",
       "<style scoped>\n",
       "    .dataframe tbody tr th:only-of-type {\n",
       "        vertical-align: middle;\n",
       "    }\n",
       "\n",
       "    .dataframe tbody tr th {\n",
       "        vertical-align: top;\n",
       "    }\n",
       "\n",
       "    .dataframe thead th {\n",
       "        text-align: right;\n",
       "    }\n",
       "</style>\n",
       "<table border=\"1\" class=\"dataframe\">\n",
       "  <thead>\n",
       "    <tr style=\"text-align: right;\">\n",
       "      <th></th>\n",
       "      <th>MF_MVP</th>\n",
       "      <th>MVP</th>\n",
       "    </tr>\n",
       "  </thead>\n",
       "  <tbody>\n",
       "    <tr>\n",
       "      <th>IVV</th>\n",
       "      <td>0.522435</td>\n",
       "      <td>0.522435</td>\n",
       "    </tr>\n",
       "    <tr>\n",
       "      <th>GOVT</th>\n",
       "      <td>0.647826</td>\n",
       "      <td>0.647826</td>\n",
       "    </tr>\n",
       "    <tr>\n",
       "      <th>IAU</th>\n",
       "      <td>0.028415</td>\n",
       "      <td>0.028415</td>\n",
       "    </tr>\n",
       "    <tr>\n",
       "      <th>HYG</th>\n",
       "      <td>-0.552366</td>\n",
       "      <td>-0.552366</td>\n",
       "    </tr>\n",
       "    <tr>\n",
       "      <th>EMM</th>\n",
       "      <td>0.353689</td>\n",
       "      <td>0.353689</td>\n",
       "    </tr>\n",
       "  </tbody>\n",
       "</table>\n",
       "</div>"
      ],
      "text/plain": [
       "        MF_MVP       MVP\n",
       "IVV   0.522435  0.522435\n",
       "GOVT  0.647826  0.647826\n",
       "IAU   0.028415  0.028415\n",
       "HYG  -0.552366 -0.552366\n",
       "EMM   0.353689  0.353689"
      ]
     },
     "execution_count": 23,
     "metadata": {},
     "output_type": "execute_result"
    }
   ],
   "source": [
    "#a.compute 'mutual fund' using(2.57)& teat for the same weight as MVP\n",
    "bracket1=np.dot(Σ,R2)\n",
    "bracket2=np.dot(np.dot(i,Σ),R2)\n",
    "bracket=np.divide(bracket1,bracket2)\n",
    "bracket\n",
    "w1=λ1*B*bracket+λ2*C*wg\n",
    "W=pd.Series(np.diagonal(w1),index=df.columns)\n",
    "pd.concat([W,W_mvp],axis=1).set_axis(['MF_MVP','MVP'],axis=1)"
   ]
  },
  {
   "cell_type": "markdown",
   "id": "de13e47c",
   "metadata": {},
   "source": [
    "From the above code, we see that we arrive at the exact portfolio for part (c) using the mutual fund theorem as in part (b) where we calculated the MVP directly.\n",
    "\n",
    "Conclusion: Once we know that the whole minimum-variance frontier can be constructed from two mutual funds, we can choose any two minimum-variance portfolios on the frontier and represent all other minimum-variance portfolios as combinations of these two funds, and when choosing GMVP as one of the funds will have the same return. "
   ]
  },
  {
   "cell_type": "markdown",
   "id": "3c7e3b22",
   "metadata": {},
   "source": [
    "## question d): compute the MSRP"
   ]
  },
  {
   "cell_type": "code",
   "execution_count": 24,
   "id": "68a4e068",
   "metadata": {},
   "outputs": [
    {
     "name": "stdout",
     "output_type": "stream",
     "text": [
      "IVV     0.320912\n",
      "GOVT    1.541294\n",
      "IAU    -0.085022\n",
      "HYG     0.108825\n",
      "EMM     0.145195\n",
      "dtype: float64\n",
      "The weight for riskfree asset is  -1.0312045118826871\n"
     ]
    }
   ],
   "source": [
    "#a&b: set R_f=0.005,δR=0.045, calculate weights using(2.61)\n",
    "a=np.array([1,1,1,1,1])\n",
    "iii=np.transpose(a)\n",
    "sub=np.subtract(R2,0.005*iii)\n",
    "sub1=sub.transpose()\n",
    "E=np.dot(np.dot(sub1,Σ),sub)\n",
    "lambda_1=0.045/E[0][0]\n",
    "W=lambda_1*np.dot(Σ,sub)\n",
    "W_msrp=pd.Series(np.diagonal(W),index=df.columns)\n",
    "print(W_msrp)\n",
    "W_rf=1-W_msrp.sum()\n",
    "print(\"The weight for riskfree asset is \",str(W_rf))\n",
    "#W_rf=pd.Series('R_f':1-W_msrp.sum(),index=['R_f'])"
   ]
  },
  {
   "cell_type": "code",
   "execution_count": 25,
   "id": "ee4e835c",
   "metadata": {
    "scrolled": true
   },
   "outputs": [
    {
     "data": {
      "text/html": [
       "<div>\n",
       "<style scoped>\n",
       "    .dataframe tbody tr th:only-of-type {\n",
       "        vertical-align: middle;\n",
       "    }\n",
       "\n",
       "    .dataframe tbody tr th {\n",
       "        vertical-align: top;\n",
       "    }\n",
       "\n",
       "    .dataframe thead th {\n",
       "        text-align: right;\n",
       "    }\n",
       "</style>\n",
       "<table border=\"1\" class=\"dataframe\">\n",
       "  <thead>\n",
       "    <tr style=\"text-align: right;\">\n",
       "      <th></th>\n",
       "      <th>MSRP</th>\n",
       "      <th>MVP</th>\n",
       "    </tr>\n",
       "  </thead>\n",
       "  <tbody>\n",
       "    <tr>\n",
       "      <th>IVV</th>\n",
       "      <td>0.320912</td>\n",
       "      <td>0.522435</td>\n",
       "    </tr>\n",
       "    <tr>\n",
       "      <th>GOVT</th>\n",
       "      <td>1.541294</td>\n",
       "      <td>0.647826</td>\n",
       "    </tr>\n",
       "    <tr>\n",
       "      <th>IAU</th>\n",
       "      <td>-0.085022</td>\n",
       "      <td>0.028415</td>\n",
       "    </tr>\n",
       "    <tr>\n",
       "      <th>HYG</th>\n",
       "      <td>0.108825</td>\n",
       "      <td>-0.552366</td>\n",
       "    </tr>\n",
       "    <tr>\n",
       "      <th>EMM</th>\n",
       "      <td>0.145195</td>\n",
       "      <td>0.353689</td>\n",
       "    </tr>\n",
       "  </tbody>\n",
       "</table>\n",
       "</div>"
      ],
      "text/plain": [
       "          MSRP       MVP\n",
       "IVV   0.320912  0.522435\n",
       "GOVT  1.541294  0.647826\n",
       "IAU  -0.085022  0.028415\n",
       "HYG   0.108825 -0.552366\n",
       "EMM   0.145195  0.353689"
      ]
     },
     "execution_count": 25,
     "metadata": {},
     "output_type": "execute_result"
    }
   ],
   "source": [
    "#c.interpretation for difference between d)&c)\n",
    "pd.DataFrame([W_msrp,W_mvp],['MSRP','MVP']).T"
   ]
  },
  {
   "cell_type": "markdown",
   "id": "5f699c0b",
   "metadata": {},
   "source": [
    "Explanation: in the presence of one riskless asset, investors would dilute their risky asset by holding more of the riskless aseets, in this term is 'GOVT'."
   ]
  },
  {
   "cell_type": "code",
   "execution_count": 26,
   "id": "c78a1bd9",
   "metadata": {},
   "outputs": [
    {
     "name": "stdout",
     "output_type": "stream",
     "text": [
      "the variance of the MSRP is  0.0047691588557805\n",
      "the std. of the MSRP is  0.06905909683582967\n"
     ]
    }
   ],
   "source": [
    "#d.compute the variance and std. of the MSRP\n",
    "var_msrp=lambda_1**2*E[0][0]\n",
    "std_msrp=math.sqrt(var_msrp)\n",
    "print(\"the variance of the MSRP is \",str(var_msrp))\n",
    "print(\"the std. of the MSRP is \",str(std_msrp))     "
   ]
  },
  {
   "cell_type": "code",
   "execution_count": 27,
   "id": "dc963df1",
   "metadata": {},
   "outputs": [
    {
     "name": "stdout",
     "output_type": "stream",
     "text": [
      "MSRP expected return:0.05\n"
     ]
    }
   ],
   "source": [
    "#e.confirm the total expected return is the same as MVP in b)\n",
    "R_p_msrp=0.005+np.dot(sub1,W)\n",
    "print(f\"MSRP expected return:{round(R_p_msrp[0][0],7)}\")"
   ]
  },
  {
   "cell_type": "markdown",
   "id": "210d9c8a",
   "metadata": {},
   "source": [
    "We can see the return for MSRP is the same as MVP return in b), which is also 0.05."
   ]
  },
  {
   "cell_type": "code",
   "execution_count": 28,
   "id": "a467bf90",
   "metadata": {},
   "outputs": [
    {
     "name": "stdout",
     "output_type": "stream",
     "text": [
      "MSRP annual std:0.0690591\n",
      "MVP annual std:0.0862262\n"
     ]
    }
   ],
   "source": [
    "print(f\"MSRP annual std:{np.round(std_msrp,7)}\\n\"\n",
    "      f\"MVP annual std:{np.round(std_mvp,7)}\")"
   ]
  },
  {
   "cell_type": "markdown",
   "id": "ef804966",
   "metadata": {},
   "source": [
    "As we can see, the annualized std. for MSRP is smaller than that of MVP, that's because when having riskless asset in the portfolio, investors would have less volatility in optimizing their asset allocation, and have more effcient solutions. "
   ]
  },
  {
   "cell_type": "markdown",
   "id": "012b91e3",
   "metadata": {},
   "source": [
    "## Extra Credit"
   ]
  },
  {
   "cell_type": "code",
   "execution_count": 29,
   "id": "7249c371",
   "metadata": {},
   "outputs": [],
   "source": [
    "er_vector=np.arange(0.021,0.07,0.001)\n",
    "er_vector\n",
    "def fncA(r,V):\n",
    "    A=r.transpose()@V@r\n",
    "    return A\n",
    "def fncB(r,V,array):\n",
    "    B=r.transpose()@V@array\n",
    "    return B\n",
    "def fncC(array,V):\n",
    "    C=array.transpose()@V@array\n",
    "    return C\n",
    "def fncD(A,B,C):\n",
    "    D=A*C-B**2\n",
    "    return D\n",
    "def fncλ1(B,C,D,ert):\n",
    "    λ1=(C*ert-B)/D\n",
    "    return λ1\n",
    "def fncλ2(A,B,D,ert):\n",
    "    λ2=(A-B*ert)/D\n",
    "    return λ2\n",
    "def fncVAR(λ1,λ2,ert):\n",
    "    VAR=λ1*ert+λ2\n",
    "    return VAR"
   ]
  },
  {
   "cell_type": "code",
   "execution_count": 30,
   "id": "6c7506f7",
   "metadata": {},
   "outputs": [
    {
     "data": {
      "text/plain": [
       "(0.0, 0.1)"
      ]
     },
     "execution_count": 30,
     "metadata": {},
     "output_type": "execute_result"
    },
    {
     "data": {
      "image/png": "[encoded data removed]",
      "text/plain": [
       "<Figure size 432x288 with 1 Axes>"
      ]
     },
     "metadata": {
      "needs_background": "light"
     },
     "output_type": "display_data"
    }
   ],
   "source": [
    "stdList=[]\n",
    "er_vector=np.arange(0.021,0.07,0.001)\n",
    "for ert in er_vector:\n",
    "    myA=fncA(R2,Σ)\n",
    "    myB=fncB(R2,Σ,a)\n",
    "    myC=fncC(a,Σ)\n",
    "    myD=fncD(myA,myB,myC)\n",
    "    lambda1=fncλ1(myB,myC,myD,ert)\n",
    "    lambda2=fncλ2(myA,myB,myD,ert)\n",
    "    myvar=fncVAR(lambda1,lambda2,ert)\n",
    "    mystd=np.sqrt(myvar)\n",
    "    stdList.append(mystd)\n",
    "pl.scatter(x=stdList, y=er_vector,c='tab:orange',s=35,alpha=1)\n",
    "pl.xlabel(\"Portfolio Standard Deviation\")\n",
    "pl.ylabel(\"Portfolio Expected Returns\")\n",
    "pl.title('Mean-Variance Efficient Frontier'),\n",
    "pl.ylim(0,0.1)\n"
   ]
  },
  {
   "cell_type": "code",
   "execution_count": 31,
   "id": "2608dc1f",
   "metadata": {},
   "outputs": [
    {
     "data": {
      "text/html": [
       "<script>\n",
       "code_show=true; \n",
       "function code_toggle() {\n",
       " if (code_show){\n",
       " $('div.input').hide();\n",
       " } else {\n",
       " $('div.input').show();\n",
       " }\n",
       " code_show = !code_show\n",
       "} \n",
       "$( document ).ready(code_toggle);\n",
       "</script>\n",
       "<form action=\"javascript:code_toggle()\"><input type=\"submit\" value=\"Click here to toggle on/off the raw code.\"></form>"
      ],
      "text/plain": [
       "<IPython.core.display.HTML object>"
      ]
     },
     "execution_count": 31,
     "metadata": {},
     "output_type": "execute_result"
    }
   ],
   "source": [
    "HTML('''<script>\n",
    "code_show=true; \n",
    "function code_toggle() {\n",
    " if (code_show){\n",
    " $('div.input').hide();\n",
    " } else {\n",
    " $('div.input').show();\n",
    " }\n",
    " code_show = !code_show\n",
    "} \n",
    "$( document ).ready(code_toggle);\n",
    "</script>\n",
    "<form action=\"javascript:code_toggle()\"><input type=\"submit\" value=\"Click here to toggle on/off the raw code.\"></form>''')"
   ]
  }
 ],
 "metadata": {
  "celltoolbar": "无",
  "hide_input": false,
  "kernelspec": {
   "display_name": "Python 3 (ipykernel)",
   "language": "python",
   "name": "python3"
  },
  "language_info": {
   "codemirror_mode": {
    "name": "ipython",
    "version": 3
   },
   "file_extension": ".py",
   "mimetype": "text/x-python",
   "name": "python",
   "nbconvert_exporter": "python",
   "pygments_lexer": "ipython3",
   "version": "3.9.7"
  }
 },
 "nbformat": 4,
 "nbformat_minor": 5
}
